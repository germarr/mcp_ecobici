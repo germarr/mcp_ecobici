{
 "cells": [
  {
   "cell_type": "code",
   "execution_count": 8,
   "id": "3fd6c4e4",
   "metadata": {},
   "outputs": [],
   "source": [
    "import pandas as pd\n",
    "import os\n",
    "import duckdb"
   ]
  },
  {
   "cell_type": "code",
   "execution_count": null,
   "id": "4dc3e85d",
   "metadata": {},
   "outputs": [
    {
     "data": {
      "text/plain": [
       "[('bike_stations',), ('bike_trips',)]"
      ]
     },
     "execution_count": 10,
     "metadata": {},
     "output_type": "execute_result"
    }
   ],
   "source": [
    "with duckdb.connect(\"C:/Users/gerym/Documents/mcp/mcp_ecobici/bike_sharing1.db\") as con:\n",
    "    tables = con.execute(\"SHOW TABLES\").fetchall()"
   ]
  },
  {
   "cell_type": "code",
   "execution_count": 12,
   "id": "a917dd90",
   "metadata": {},
   "outputs": [
    {
     "data": {
      "text/html": [
       "<div>\n",
       "<style scoped>\n",
       "    .dataframe tbody tr th:only-of-type {\n",
       "        vertical-align: middle;\n",
       "    }\n",
       "\n",
       "    .dataframe tbody tr th {\n",
       "        vertical-align: top;\n",
       "    }\n",
       "\n",
       "    .dataframe thead th {\n",
       "        text-align: right;\n",
       "    }\n",
       "</style>\n",
       "<table border=\"1\" class=\"dataframe\">\n",
       "  <thead>\n",
       "    <tr style=\"text-align: right;\">\n",
       "      <th></th>\n",
       "      <th>genero_usuario</th>\n",
       "      <th>edad_usuario</th>\n",
       "      <th>bici</th>\n",
       "      <th>ciclo_estacion_retiro</th>\n",
       "      <th>fecha_retiro</th>\n",
       "      <th>ciclo_estacionarribo</th>\n",
       "      <th>fecha_arribo</th>\n",
       "      <th>fecha_retiro_completa</th>\n",
       "      <th>fecha_arribo_completa</th>\n",
       "      <th>time_between_trips</th>\n",
       "      <th>day_of_the_week</th>\n",
       "      <th>is_weekend</th>\n",
       "      <th>lat_start</th>\n",
       "      <th>lon_start</th>\n",
       "      <th>lat_end</th>\n",
       "      <th>lon_end</th>\n",
       "      <th>distance_meters</th>\n",
       "      <th>hora_retiro</th>\n",
       "      <th>hora_arribo</th>\n",
       "    </tr>\n",
       "  </thead>\n",
       "  <tbody>\n",
       "    <tr>\n",
       "      <th>0</th>\n",
       "      <td>M</td>\n",
       "      <td>26</td>\n",
       "      <td>5180930</td>\n",
       "      <td>568</td>\n",
       "      <td>2024-12-31</td>\n",
       "      <td>572</td>\n",
       "      <td>2025-01-01</td>\n",
       "      <td>2024-12-31 23:57:02</td>\n",
       "      <td>2025-01-01 00:00:03</td>\n",
       "      <td>3.016667</td>\n",
       "      <td>Wednesday</td>\n",
       "      <td>0</td>\n",
       "      <td>19.418013</td>\n",
       "      <td>-99.144598</td>\n",
       "      <td>19.414677</td>\n",
       "      <td>-99.136894</td>\n",
       "      <td>889.014215</td>\n",
       "      <td>23:57:02</td>\n",
       "      <td>00:00:03</td>\n",
       "    </tr>\n",
       "    <tr>\n",
       "      <th>1</th>\n",
       "      <td>F</td>\n",
       "      <td>54</td>\n",
       "      <td>3653953</td>\n",
       "      <td>283</td>\n",
       "      <td>2024-12-31</td>\n",
       "      <td>596</td>\n",
       "      <td>2025-01-01</td>\n",
       "      <td>2024-12-31 23:51:40</td>\n",
       "      <td>2025-01-01 00:00:41</td>\n",
       "      <td>9.016667</td>\n",
       "      <td>Wednesday</td>\n",
       "      <td>0</td>\n",
       "      <td>19.397923</td>\n",
       "      <td>-99.167248</td>\n",
       "      <td>19.395205</td>\n",
       "      <td>-99.155049</td>\n",
       "      <td>1314.687764</td>\n",
       "      <td>23:51:40</td>\n",
       "      <td>00:00:41</td>\n",
       "    </tr>\n",
       "    <tr>\n",
       "      <th>2</th>\n",
       "      <td>M</td>\n",
       "      <td>38</td>\n",
       "      <td>7511322</td>\n",
       "      <td>034</td>\n",
       "      <td>2024-12-31</td>\n",
       "      <td>064</td>\n",
       "      <td>2025-01-01</td>\n",
       "      <td>2024-12-31 23:48:36</td>\n",
       "      <td>2025-01-01 00:00:59</td>\n",
       "      <td>12.383333</td>\n",
       "      <td>Wednesday</td>\n",
       "      <td>0</td>\n",
       "      <td>19.424728</td>\n",
       "      <td>-99.163348</td>\n",
       "      <td>19.412967</td>\n",
       "      <td>-99.166925</td>\n",
       "      <td>1360.437222</td>\n",
       "      <td>23:48:36</td>\n",
       "      <td>00:00:59</td>\n",
       "    </tr>\n",
       "    <tr>\n",
       "      <th>3</th>\n",
       "      <td>M</td>\n",
       "      <td>41</td>\n",
       "      <td>3804572</td>\n",
       "      <td>258</td>\n",
       "      <td>2024-12-31</td>\n",
       "      <td>023</td>\n",
       "      <td>2025-01-01</td>\n",
       "      <td>2024-12-31 23:54:11</td>\n",
       "      <td>2025-01-01 00:01:08</td>\n",
       "      <td>6.950000</td>\n",
       "      <td>Wednesday</td>\n",
       "      <td>0</td>\n",
       "      <td>19.416530</td>\n",
       "      <td>-99.179044</td>\n",
       "      <td>19.425280</td>\n",
       "      <td>-99.171099</td>\n",
       "      <td>1280.930290</td>\n",
       "      <td>23:54:11</td>\n",
       "      <td>00:01:08</td>\n",
       "    </tr>\n",
       "  </tbody>\n",
       "</table>\n",
       "</div>"
      ],
      "text/plain": [
       "  genero_usuario  edad_usuario     bici ciclo_estacion_retiro fecha_retiro  \\\n",
       "0              M            26  5180930                   568   2024-12-31   \n",
       "1              F            54  3653953                   283   2024-12-31   \n",
       "2              M            38  7511322                   034   2024-12-31   \n",
       "3              M            41  3804572                   258   2024-12-31   \n",
       "\n",
       "  ciclo_estacionarribo fecha_arribo fecha_retiro_completa  \\\n",
       "0                  572   2025-01-01   2024-12-31 23:57:02   \n",
       "1                  596   2025-01-01   2024-12-31 23:51:40   \n",
       "2                  064   2025-01-01   2024-12-31 23:48:36   \n",
       "3                  023   2025-01-01   2024-12-31 23:54:11   \n",
       "\n",
       "  fecha_arribo_completa  time_between_trips day_of_the_week  is_weekend  \\\n",
       "0   2025-01-01 00:00:03            3.016667       Wednesday           0   \n",
       "1   2025-01-01 00:00:41            9.016667       Wednesday           0   \n",
       "2   2025-01-01 00:00:59           12.383333       Wednesday           0   \n",
       "3   2025-01-01 00:01:08            6.950000       Wednesday           0   \n",
       "\n",
       "   lat_start  lon_start    lat_end    lon_end  distance_meters hora_retiro  \\\n",
       "0  19.418013 -99.144598  19.414677 -99.136894       889.014215    23:57:02   \n",
       "1  19.397923 -99.167248  19.395205 -99.155049      1314.687764    23:51:40   \n",
       "2  19.424728 -99.163348  19.412967 -99.166925      1360.437222    23:48:36   \n",
       "3  19.416530 -99.179044  19.425280 -99.171099      1280.930290    23:54:11   \n",
       "\n",
       "  hora_arribo  \n",
       "0    00:00:03  \n",
       "1    00:00:41  \n",
       "2    00:00:59  \n",
       "3    00:01:08  "
      ]
     },
     "execution_count": 12,
     "metadata": {},
     "output_type": "execute_result"
    }
   ],
   "source": [
    "with duckdb.connect(\"C:/Users/gerym/Documents/mcp/mcp_ecobici/bike_sharing1.db\") as con:\n",
    "    bike_trips = con.execute(\"SELECT * FROM bike_trips limit 4\").df()\n",
    "\n",
    "bike_trips"
   ]
  },
  {
   "cell_type": "code",
   "execution_count": 15,
   "id": "d9ba8a79",
   "metadata": {},
   "outputs": [
    {
     "data": {
      "text/plain": [
       "ciclo_estacionarribo     object\n",
       "alcaldia                 object\n",
       "colonia                  object\n",
       "zip_code                  int64\n",
       "ciclo_estacion_retiro    object\n",
       "dtype: object"
      ]
     },
     "execution_count": 15,
     "metadata": {},
     "output_type": "execute_result"
    }
   ],
   "source": [
    "with duckdb.connect(\"C:/Users/gerym/Documents/mcp/mcp_ecobici/bike_sharing1.db\") as con:\n",
    "    bike_stations = con.execute(\"SELECT * EXCLUDE(index), ciclo_estacionarribo as ciclo_estacion_retiro FROM bike_stations\").df()\n",
    "\n",
    "bike_stations.dtypes"
   ]
  }
 ],
 "metadata": {
  "kernelspec": {
   "display_name": ".venv",
   "language": "python",
   "name": "python3"
  },
  "language_info": {
   "codemirror_mode": {
    "name": "ipython",
    "version": 3
   },
   "file_extension": ".py",
   "mimetype": "text/x-python",
   "name": "python",
   "nbconvert_exporter": "python",
   "pygments_lexer": "ipython3",
   "version": "3.10.18"
  }
 },
 "nbformat": 4,
 "nbformat_minor": 5
}
