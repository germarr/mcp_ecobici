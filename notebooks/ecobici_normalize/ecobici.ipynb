{
 "cells": [
  {
   "cell_type": "code",
   "execution_count": 1,
   "metadata": {},
   "outputs": [],
   "source": [
    "import duckdb\n",
    "import pandas as pd\n",
    "from sklearn.linear_model import LinearRegression\n",
    "import numpy as np\n",
    "import requests"
   ]
  },
  {
   "cell_type": "code",
   "execution_count": 2,
   "metadata": {},
   "outputs": [],
   "source": [
    "## General Bikeshare Feed Specification Standard\n",
    "# gbfs = requests.get('https://gbfs.mex.lyftbikes.com/gbfs/gbfs.json').json()\n",
    "gbfs = requests.get('https://gbfs.mex.lyftbikes.com/gbfs/en/station_information.json').json()\n",
    "\n",
    "## Get the Stations Information\n",
    "# stations_url =  gbfs['data']['es']['feeds'][0]['url']\n",
    "stations_list =  gbfs['data']['stations']"
   ]
  },
  {
   "cell_type": "code",
   "execution_count": 3,
   "metadata": {},
   "outputs": [],
   "source": [
    "listOfStations = pd.DataFrame(stations_list)\n",
    "\n",
    "## List Of Stations SImplified\n",
    "stations_simplified = listOfStations[['short_name','lat','lon']]\n",
    "\n",
    "## List Of Stations Names\n",
    "stations_names = listOfStations[['short_name','name']]\n"
   ]
  },
  {
   "cell_type": "code",
   "execution_count": 5,
   "metadata": {},
   "outputs": [],
   "source": [
    "monthName = '2025_02'\n",
    "fileFolder = '/Volumes/T7 Shield/Ecobici/CLEAN'\n",
    "\n",
    "# testDataset = duckdb.sql(f\"\"\" \n",
    "# SELECT * FROM read_parquet(['{fileFolder}/2025_01.parquet'])\n",
    "# \"\"\")\n",
    "\n",
    "rides_all = duckdb.sql(f\"\"\" \n",
    "SELECT * EXCLUDE(fecha_retiro,fecha_arribo),fecha_retiro_completa::date AS fecha_retiro,fecha_arribo_completa::date AS fecha_arribo   \n",
    "    FROM read_parquet(['{fileFolder}/2025/*.parquet',\n",
    "    '{fileFolder}/2024/*.parquet',\n",
    "    '{fileFolder}/2023/*.parquet',\n",
    "    '{fileFolder}/2022/*.parquet',\n",
    "    '{fileFolder}/2021/*.parquet',\n",
    "    '{fileFolder}/2020/*.parquet',\n",
    "    '{fileFolder}/2019/*.parquet',\n",
    "    '{fileFolder}/2018/*.parquet',\n",
    "    '{fileFolder}/2017/*.parquet']) \n",
    "\"\"\")\n",
    "\n",
    "rides_24 = duckdb.sql(f\"\"\" \n",
    "SELECT * EXCLUDE(fecha_retiro,fecha_arribo),fecha_retiro_completa::date AS fecha_retiro,fecha_arribo_completa::date AS fecha_arribo   \n",
    "    FROM read_parquet([\n",
    "    '{fileFolder}/2025/*.parquet',\n",
    "    '{fileFolder}/2024/*.parquet'\n",
    "]) \n",
    "\"\"\")"
   ]
  },
  {
   "cell_type": "code",
   "execution_count": 80,
   "metadata": {},
   "outputs": [
    {
     "data": {
      "text/plain": [
       "┌────────────────────┬─────────────────────┬────────────────┬──────────────┬───────────┬─────────────────┬─────────────┐\n",
       "│ first_day_of_month │ hora_arribo_summary │ genero_usuario │ edad_usuario │ trip_time │ distance_meters │ total_trips │\n",
       "│        date        │       varchar       │    varchar     │    int64     │  double   │     double      │    int64    │\n",
       "├────────────────────┼─────────────────────┼────────────────┼──────────────┼───────────┼─────────────────┼─────────────┤\n",
       "│ 2024-01-01         │ 00:00:00            │ M              │           34 │   3896.33 │        480445.1 │         244 │\n",
       "│ 2024-01-01         │ 00:00:00            │ F              │           20 │    516.22 │        62479.13 │          28 │\n",
       "│ 2024-01-01         │ 00:00:00            │ M              │           29 │   5841.38 │        807601.7 │         378 │\n",
       "│ 2024-01-01         │ 00:00:00            │ F              │           69 │    176.73 │         5233.12 │           4 │\n",
       "│ 2024-01-01         │ 00:00:00            │ M              │           49 │    664.55 │         63666.9 │          34 │\n",
       "│ 2024-01-01         │ 00:00:00            │ F              │           36 │     667.1 │         58441.0 │          34 │\n",
       "│ 2024-01-01         │ 05:00:00            │ F              │           27 │   1420.45 │       248127.41 │         137 │\n",
       "│ 2024-01-01         │ 06:00:00            │ M              │           29 │   10050.1 │      1741730.62 │         990 │\n",
       "│ 2024-01-01         │ 06:00:00            │ M              │           34 │   7355.78 │      1343509.15 │         665 │\n",
       "│ 2024-01-01         │ 06:00:00            │ M              │           49 │    3252.0 │       497116.79 │         280 │\n",
       "│     ·              │    ·                │ ·              │            · │       ·   │            ·    │           · │\n",
       "│     ·              │    ·                │ ·              │            · │       ·   │            ·    │           · │\n",
       "│     ·              │    ·                │ ·              │            · │       ·   │            ·    │           · │\n",
       "│ 2024-12-01         │ 11:00:00            │ F              │           16 │     64.33 │         4357.97 │           2 │\n",
       "│ 2024-12-01         │ 10:00:00            │ M              │           81 │      50.7 │             0.0 │           1 │\n",
       "│ 2024-12-01         │ 11:00:00            │ M              │           81 │     50.72 │          2623.2 │           3 │\n",
       "│ 2024-12-01         │ 09:00:00            │ ?              │           54 │      4.72 │          664.14 │           1 │\n",
       "│ 2024-12-01         │ 20:00:00            │ ?              │           54 │     42.93 │         5545.37 │           3 │\n",
       "│ 2024-12-01         │ 13:00:00            │ ?              │           67 │     53.02 │         2065.21 │           1 │\n",
       "│ 2024-12-01         │ 18:00:00            │ F              │           75 │     22.73 │         3951.72 │           1 │\n",
       "│ 2024-12-01         │ 19:00:00            │ O              │           17 │      36.6 │         1845.59 │           1 │\n",
       "│ 2024-12-01         │ 10:00:00            │ O              │           56 │     37.78 │          2171.8 │           2 │\n",
       "│ 2024-12-01         │ 13:00:00            │ F              │           74 │      19.1 │          983.31 │           1 │\n",
       "├────────────────────┴─────────────────────┴────────────────┴──────────────┴───────────┴─────────────────┴─────────────┤\n",
       "│ ? rows (>9999 rows, 20 shown)                                                                              7 columns │\n",
       "└──────────────────────────────────────────────────────────────────────────────────────────────────────────────────────┘"
      ]
     },
     "execution_count": 80,
     "metadata": {},
     "output_type": "execute_result"
    }
   ],
   "source": [
    "duckdb.sql(f\"\"\" \n",
    "SELECT date_trunc('month', fecha_arribo_completa)::date as first_day_of_month,\n",
    "           date_trunc('hour', fecha_arribo_completa)::TIME::STRING as hora_arribo_summary,\n",
    "           genero_usuario,edad_usuario,\n",
    "           ROUND(SUM(time_between_trips)::DOUBLE,2) as trip_time,\n",
    "           ROUND(SUM(distance_meters)::DOUBLE,2) as distance_meters,COUNT(*) AS total_trips\n",
    "           FROM rides_24\n",
    "           GROUP BY 1,2,3,4\n",
    "\"\"\")"
   ]
  },
  {
   "cell_type": "code",
   "execution_count": 81,
   "metadata": {},
   "outputs": [],
   "source": [
    "summary_data = duckdb.sql(\"\"\"\n",
    "SELECT date_trunc('month', fecha_arribo_completa)::date as first_day_of_month,\n",
    "           date_trunc('hour', fecha_arribo_completa)::TIME::STRING as hora_arribo_summary,\n",
    "           genero_usuario,edad_usuario,\n",
    "           ROUND(SUM(time_between_trips)::DOUBLE,2) as trip_time,\n",
    "           ROUND(SUM(distance_meters)::DOUBLE,2) as distance_meters,COUNT(*) AS total_trips\n",
    "           FROM rides_24\n",
    "           GROUP BY 1,2,3,4\n",
    "\"\"\").df()"
   ]
  },
  {
   "cell_type": "code",
   "execution_count": 89,
   "metadata": {},
   "outputs": [
    {
     "name": "stdout",
     "output_type": "stream",
     "text": [
      "┌────────────┐\n",
      "│ total_rows │\n",
      "│   int64    │\n",
      "├────────────┤\n",
      "│       8560 │\n",
      "└────────────┘\n",
      "\n"
     ]
    }
   ],
   "source": [
    "### Get the top Metrics Trips\n",
    "query = \"\"\"SELECT fecha_arribo,date_trunc('month', fecha_arribo_completa)::date as first_day_of_month,\n",
    "        date_trunc('hour', fecha_arribo_completa)::TIME::STRING as hora_arribo_summary,\n",
    "           ROUND(SUM(time_between_trips)::DOUBLE,2) as trip_time,\n",
    "           ROUND(SUM(distance_meters)::DOUBLE,2) as distance_meters,COUNT(*) AS total_trips\n",
    "           FROM rides_24\n",
    "           GROUP BY 1,2,3\"\"\"\n",
    "\n",
    "print(duckdb.sql(f\"SELECT COUNT(*) as total_rows FROM ({query})\"))\n",
    "\n",
    "daily_rides = duckdb.sql(query).df()"
   ]
  },
  {
   "cell_type": "code",
   "execution_count": 44,
   "metadata": {},
   "outputs": [
    {
     "data": {
      "text/plain": [
       "┌────────────────────┬────────────────────┬─────────────────┬─────────────┐\n",
       "│ first_day_of_month │ time_between_trips │ distance_meters │ total_trips │\n",
       "│        date        │       double       │     double      │   int128    │\n",
       "├────────────────────┼────────────────────┼─────────────────┼─────────────┤\n",
       "│ 2024-10-01         │         31492557.5 │   3937050912.64 │       78065 │\n",
       "│ 2024-09-01         │        28407550.21 │    3525627652.4 │       73909 │\n",
       "│ 2024-06-01         │        28704284.72 │   3617285140.17 │       73986 │\n",
       "│ 2024-04-01         │        30277723.63 │   3819211113.94 │       74998 │\n",
       "│ 2024-03-01         │        28892704.47 │   3522984422.49 │       76779 │\n",
       "│ 2024-08-01         │        28609234.79 │   3585027752.05 │       76348 │\n",
       "│ 2024-11-01         │        29481988.89 │   3680586443.86 │       80768 │\n",
       "│ 2024-05-01         │        14697046.36 │   1861343297.12 │       37474 │\n",
       "│ 2025-01-01         │        27132077.21 │   3424545404.28 │       86391 │\n",
       "│ 2024-07-01         │        27516304.47 │   3484363233.52 │       75726 │\n",
       "│ 2024-12-01         │        25630102.69 │   3151308984.79 │       83684 │\n",
       "│ 2024-02-01         │        26375878.29 │   3276910636.29 │       71626 │\n",
       "│ 2024-01-01         │        23925947.12 │   2993167908.13 │       73567 │\n",
       "├────────────────────┴────────────────────┴─────────────────┴─────────────┤\n",
       "│ 13 rows                                                       4 columns │\n",
       "└─────────────────────────────────────────────────────────────────────────┘"
      ]
     },
     "execution_count": 44,
     "metadata": {},
     "output_type": "execute_result"
    }
   ],
   "source": [
    "duckdb.sql(\"\"\"\n",
    "           SELECT date_trunc('month', fecha_arribo)::date as first_day_of_month,\n",
    "           ROUND(SUM(time_between_trips)::DOUBLE,2) as time_between_trips,\n",
    "           ROUND(SUM(distance_meters)::DOUBLE,2) as distance_meters,\n",
    "           SUM(total_trips) AS total_trips\n",
    "           FROM daily_rides\n",
    "           GROUP BY 1\n",
    "           \"\"\")"
   ]
  },
  {
   "cell_type": "code",
   "execution_count": 86,
   "metadata": {},
   "outputs": [],
   "source": [
    "nameOfTable = 'fact_trips'\n",
    "tabletoexport = duckdb.sql(f\"\"\" \n",
    "SELECT date_trunc('month', fecha_arribo_completa)::date as first_day_of_month,\n",
    "           date_trunc('hour', fecha_arribo_completa)::TIME::STRING as hora_arribo_summary,\n",
    "           genero_usuario,edad_usuario,\n",
    "           ROUND(SUM(time_between_trips)::DOUBLE,2) as trip_time,\n",
    "           ROUND(SUM(distance_meters)::DOUBLE,2) as distance_meters,COUNT(*) AS total_trips\n",
    "           FROM rides_24\n",
    "           GROUP BY 1,2,3,4\n",
    "\"\"\").df()\n",
    "\n",
    "with duckdb.connect('/Users/gerardomartinez/Documents/ecobici_project/ecobici/evidence_project/sources/ecobici5/routes6.duckdb') as con:\n",
    "    con.execute(f\"\"\"\n",
    "    DROP TABLE IF EXISTS {nameOfTable}\n",
    "    \"\"\")\n",
    "    \n",
    "    con.execute(f\"\"\"\n",
    "        CREATE TABLE {nameOfTable} AS \n",
    "        SELECT * FROM tabletoexport\"\"\")"
   ]
  },
  {
   "cell_type": "code",
   "execution_count": 90,
   "metadata": {},
   "outputs": [],
   "source": [
    "nameOfTable = 'fact_trips_summary2'\n",
    "tabletoexport = duckdb.sql(f\"\"\" \n",
    "SELECT fecha_arribo,date_trunc('month', fecha_arribo_completa)::date as first_day_of_month,\n",
    "        date_trunc('hour', fecha_arribo_completa)::TIME::STRING as hora_arribo_summary,\n",
    "           ROUND(SUM(time_between_trips)::DOUBLE,2) as trip_time,\n",
    "           ROUND(SUM(distance_meters)::DOUBLE,2) as distance_meters,COUNT(*) AS total_trips\n",
    "           FROM rides_24\n",
    "           GROUP BY 1,2,3\n",
    "\"\"\").df()\n",
    "\n",
    "with duckdb.connect('/Users/gerardomartinez/Documents/ecobici_project/ecobici/evidence_project/sources/ecobici5/routes6.duckdb') as con:\n",
    "    con.execute(f\"\"\"\n",
    "    DROP TABLE IF EXISTS {nameOfTable}\n",
    "    \"\"\")\n",
    "    \n",
    "    con.execute(f\"\"\"\n",
    "        CREATE TABLE {nameOfTable} AS \n",
    "        SELECT * FROM tabletoexport\"\"\")"
   ]
  },
  {
   "cell_type": "code",
   "execution_count": 91,
   "metadata": {},
   "outputs": [
    {
     "data": {
      "text/html": [
       "<div>\n",
       "<style scoped>\n",
       "    .dataframe tbody tr th:only-of-type {\n",
       "        vertical-align: middle;\n",
       "    }\n",
       "\n",
       "    .dataframe tbody tr th {\n",
       "        vertical-align: top;\n",
       "    }\n",
       "\n",
       "    .dataframe thead th {\n",
       "        text-align: right;\n",
       "    }\n",
       "</style>\n",
       "<table border=\"1\" class=\"dataframe\">\n",
       "  <thead>\n",
       "    <tr style=\"text-align: right;\">\n",
       "      <th></th>\n",
       "      <th>fecha_arribo</th>\n",
       "      <th>first_day_of_month</th>\n",
       "      <th>hora_arribo_summary</th>\n",
       "      <th>trip_time</th>\n",
       "      <th>distance_meters</th>\n",
       "      <th>total_trips</th>\n",
       "    </tr>\n",
       "  </thead>\n",
       "  <tbody>\n",
       "    <tr>\n",
       "      <th>0</th>\n",
       "      <td>2024-02-01</td>\n",
       "      <td>2024-02-01</td>\n",
       "      <td>05:00:00</td>\n",
       "      <td>2766.33</td>\n",
       "      <td>492799.95</td>\n",
       "      <td>293</td>\n",
       "    </tr>\n",
       "    <tr>\n",
       "      <th>1</th>\n",
       "      <td>2024-02-02</td>\n",
       "      <td>2024-02-01</td>\n",
       "      <td>11:00:00</td>\n",
       "      <td>35223.52</td>\n",
       "      <td>4321647.54</td>\n",
       "      <td>2503</td>\n",
       "    </tr>\n",
       "    <tr>\n",
       "      <th>2</th>\n",
       "      <td>2024-02-03</td>\n",
       "      <td>2024-02-01</td>\n",
       "      <td>04:00:00</td>\n",
       "      <td>587.95</td>\n",
       "      <td>3292.75</td>\n",
       "      <td>1</td>\n",
       "    </tr>\n",
       "    <tr>\n",
       "      <th>3</th>\n",
       "      <td>2024-02-03</td>\n",
       "      <td>2024-02-01</td>\n",
       "      <td>08:00:00</td>\n",
       "      <td>17348.50</td>\n",
       "      <td>2526488.89</td>\n",
       "      <td>1440</td>\n",
       "    </tr>\n",
       "    <tr>\n",
       "      <th>4</th>\n",
       "      <td>2024-02-05</td>\n",
       "      <td>2024-02-01</td>\n",
       "      <td>08:00:00</td>\n",
       "      <td>11231.68</td>\n",
       "      <td>1530212.23</td>\n",
       "      <td>947</td>\n",
       "    </tr>\n",
       "    <tr>\n",
       "      <th>...</th>\n",
       "      <td>...</td>\n",
       "      <td>...</td>\n",
       "      <td>...</td>\n",
       "      <td>...</td>\n",
       "      <td>...</td>\n",
       "      <td>...</td>\n",
       "    </tr>\n",
       "    <tr>\n",
       "      <th>8555</th>\n",
       "      <td>2024-12-28</td>\n",
       "      <td>2024-12-01</td>\n",
       "      <td>17:00:00</td>\n",
       "      <td>39881.00</td>\n",
       "      <td>4370758.84</td>\n",
       "      <td>2481</td>\n",
       "    </tr>\n",
       "    <tr>\n",
       "      <th>8556</th>\n",
       "      <td>2024-12-29</td>\n",
       "      <td>2024-12-01</td>\n",
       "      <td>02:00:00</td>\n",
       "      <td>209.38</td>\n",
       "      <td>4173.03</td>\n",
       "      <td>2</td>\n",
       "    </tr>\n",
       "    <tr>\n",
       "      <th>8557</th>\n",
       "      <td>2024-12-30</td>\n",
       "      <td>2024-12-01</td>\n",
       "      <td>14:00:00</td>\n",
       "      <td>49721.45</td>\n",
       "      <td>5361007.58</td>\n",
       "      <td>3297</td>\n",
       "    </tr>\n",
       "    <tr>\n",
       "      <th>8558</th>\n",
       "      <td>2024-12-31</td>\n",
       "      <td>2024-12-01</td>\n",
       "      <td>16:00:00</td>\n",
       "      <td>44295.60</td>\n",
       "      <td>4702861.25</td>\n",
       "      <td>2729</td>\n",
       "    </tr>\n",
       "    <tr>\n",
       "      <th>8559</th>\n",
       "      <td>2024-12-31</td>\n",
       "      <td>2024-12-01</td>\n",
       "      <td>20:00:00</td>\n",
       "      <td>18570.53</td>\n",
       "      <td>2055874.46</td>\n",
       "      <td>1180</td>\n",
       "    </tr>\n",
       "  </tbody>\n",
       "</table>\n",
       "<p>8560 rows × 6 columns</p>\n",
       "</div>"
      ],
      "text/plain": [
       "     fecha_arribo first_day_of_month hora_arribo_summary  trip_time  \\\n",
       "0      2024-02-01         2024-02-01            05:00:00    2766.33   \n",
       "1      2024-02-02         2024-02-01            11:00:00   35223.52   \n",
       "2      2024-02-03         2024-02-01            04:00:00     587.95   \n",
       "3      2024-02-03         2024-02-01            08:00:00   17348.50   \n",
       "4      2024-02-05         2024-02-01            08:00:00   11231.68   \n",
       "...           ...                ...                 ...        ...   \n",
       "8555   2024-12-28         2024-12-01            17:00:00   39881.00   \n",
       "8556   2024-12-29         2024-12-01            02:00:00     209.38   \n",
       "8557   2024-12-30         2024-12-01            14:00:00   49721.45   \n",
       "8558   2024-12-31         2024-12-01            16:00:00   44295.60   \n",
       "8559   2024-12-31         2024-12-01            20:00:00   18570.53   \n",
       "\n",
       "      distance_meters  total_trips  \n",
       "0           492799.95          293  \n",
       "1          4321647.54         2503  \n",
       "2             3292.75            1  \n",
       "3          2526488.89         1440  \n",
       "4          1530212.23          947  \n",
       "...               ...          ...  \n",
       "8555       4370758.84         2481  \n",
       "8556          4173.03            2  \n",
       "8557       5361007.58         3297  \n",
       "8558       4702861.25         2729  \n",
       "8559       2055874.46         1180  \n",
       "\n",
       "[8560 rows x 6 columns]"
      ]
     },
     "execution_count": 91,
     "metadata": {},
     "output_type": "execute_result"
    }
   ],
   "source": [
    "tabletoexport"
   ]
  },
  {
   "cell_type": "code",
   "execution_count": 85,
   "metadata": {},
   "outputs": [
    {
     "ename": "BinderException",
     "evalue": "Binder Error: Referenced column \"fecha_arribo\" not found in FROM clause!\nCandidate bindings: \"edad_usuario\", \"hora_arribo_summary\", \"total_trips\", \"genero_usuario\", \"distance_meters\"",
     "output_type": "error",
     "traceback": [
      "\u001b[0;31m---------------------------------------------------------------------------\u001b[0m",
      "\u001b[0;31mBinderException\u001b[0m                           Traceback (most recent call last)",
      "Cell \u001b[0;32mIn[85], line 1\u001b[0m\n\u001b[0;32m----> 1\u001b[0m \u001b[43mduckdb\u001b[49m\u001b[38;5;241;43m.\u001b[39;49m\u001b[43msql\u001b[49m\u001b[43m(\u001b[49m\u001b[38;5;124;43mf\u001b[39;49m\u001b[38;5;124;43m\"\"\"\u001b[39;49m\n\u001b[1;32m      2\u001b[0m \u001b[38;5;124;43mSELECT date_trunc(\u001b[39;49m\u001b[38;5;124;43m'\u001b[39;49m\u001b[38;5;124;43mmonth\u001b[39;49m\u001b[38;5;124;43m'\u001b[39;49m\u001b[38;5;124;43m, fecha_arribo)::date as first_day_of_month, \u001b[39;49m\n\u001b[1;32m      3\u001b[0m \u001b[38;5;124;43m           SUM(total_trips) AS total_trips\u001b[39;49m\n\u001b[1;32m      4\u001b[0m \u001b[38;5;124;43m           FROM (SELECT fecha_arribo, hora_arribo_summary,\u001b[39;49m\n\u001b[1;32m      5\u001b[0m \u001b[38;5;124;43m           genero_usuario,edad_usuario,\u001b[39;49m\n\u001b[1;32m      6\u001b[0m \u001b[38;5;124;43m           ROUND(SUM(time_between_trips)::DOUBLE,2) as time_between_trips,\u001b[39;49m\n\u001b[1;32m      7\u001b[0m \u001b[38;5;124;43m           ROUND(SUM(distance_meters)::DOUBLE,2) as distance_meters,COUNT(*) AS total_trips\u001b[39;49m\n\u001b[1;32m      8\u001b[0m \u001b[38;5;124;43m           FROM summary_data\u001b[39;49m\n\u001b[1;32m      9\u001b[0m \u001b[38;5;124;43m           GROUP BY 1,2,3,4)\u001b[39;49m\n\u001b[1;32m     10\u001b[0m \u001b[38;5;124;43m           GROUP BY 1\u001b[39;49m\n\u001b[1;32m     11\u001b[0m \u001b[38;5;124;43m           \u001b[39;49m\u001b[38;5;124;43m\"\"\"\u001b[39;49m\u001b[43m)\u001b[49m\n",
      "\u001b[0;31mBinderException\u001b[0m: Binder Error: Referenced column \"fecha_arribo\" not found in FROM clause!\nCandidate bindings: \"edad_usuario\", \"hora_arribo_summary\", \"total_trips\", \"genero_usuario\", \"distance_meters\""
     ]
    }
   ],
   "source": [
    "duckdb.sql(f\"\"\"\n",
    "SELECT date_trunc('month', fecha_arribo)::date as first_day_of_month, \n",
    "           SUM(total_trips) AS total_trips\n",
    "           FROM (SELECT fecha_arribo, hora_arribo_summary,\n",
    "           genero_usuario,edad_usuario,\n",
    "           ROUND(SUM(time_between_trips)::DOUBLE,2) as time_between_trips,\n",
    "           ROUND(SUM(distance_meters)::DOUBLE,2) as distance_meters,COUNT(*) AS total_trips\n",
    "           FROM summary_data\n",
    "           GROUP BY 1,2,3,4)\n",
    "           GROUP BY 1\n",
    "           \"\"\")"
   ]
  },
  {
   "cell_type": "code",
   "execution_count": 133,
   "metadata": {},
   "outputs": [],
   "source": [
    "with duckdb.connect('/Users/gerardomartinez/Documents/ecobici_project/ecobici/evidence_project/sources/ecobici_routes/routes4.duckdb') as con:\n",
    "    con.execute(\"\"\"\n",
    "        DROP TABLE IF EXISTS popular_routes\n",
    "    \"\"\")\n",
    "    con.execute(f\"\"\"\n",
    "        CREATE TABLE popular_routes AS \n",
    "        \n",
    "        WITH ride_or_die AS (SELECT * EXCLUDE(fecha_retiro,fecha_arribo),fecha_retiro_completa::date AS fecha_retiro,fecha_arribo_completa::date AS fecha_arribo \n",
    "        FROM read_parquet(['{fileFolder}/2025/*.parquet'])),\n",
    "        \n",
    "        popular_routes as (SELECT \n",
    "        fecha_arribo,\n",
    "        ciclo_estacion_retiro,\n",
    "        ciclo_estacionarribo,\n",
    "        ciclo_estacion_retiro || ' <-> ' || ciclo_estacionarribo AS route,                   \n",
    "              date_trunc('month', fecha_arribo)::date as first_day_of_month,\n",
    "       time_between_trips,distance_meters\n",
    "    FROM ride_or_die)\n",
    "           \n",
    "       SELECT \n",
    "              fecha_arribo, first_day_of_month,\n",
    "              ciclo_estacion_retiro, ciclo_estacionarribo,route,\n",
    "              sn.name as station_name_retiro, sn2.name as station_name_arribo,\n",
    "              COUNT(*) as total_trips,\n",
    "              ROUND(SUM(distance_meters::NUMERIC),2) as total_distance_meters,\n",
    "              ROUND(SUM(time_between_trips::NUMERIC),2) as total_time_between_trips\n",
    "           FROM popular_routes as pr\n",
    "           LEFT JOIN stations_names as sn ON sn.short_name = pr.ciclo_estacion_retiro\n",
    "           LEFT JOIN stations_names as sn2 ON sn2.short_name = pr.ciclo_estacionarribo\n",
    "           GROUP BY 1,2,3,4,5,6,7\n",
    "           ORDER BY 1,8 DESC\n",
    "    \"\"\")\n",
    "\n",
    "# duckdb.sql(\"\"\"\n",
    "# WITH popular_routes as (SELECT \n",
    "#         fecha_arribo,\n",
    "#         ciclo_estacion_retiro,\n",
    "#         ciclo_estacionarribo,\n",
    "#         ciclo_estacion_retiro || ' <-> ' || ciclo_estacionarribo AS route,                   \n",
    "#               date_trunc('month', fecha_arribo)::date as first_day_of_month,\n",
    "#        time_between_trips,distance_meters\n",
    "#     FROM rides_24)\n",
    "           \n",
    "#        SELECT COUNT(*) FROM (SELECT \n",
    "#               fecha_arribo, first_day_of_month,\n",
    "#               ciclo_estacion_retiro, ciclo_estacionarribo,route,\n",
    "#               sn.name as station_name_retiro, sn2.name as station_name_arribo,\n",
    "#               COUNT(*) as total_trips,\n",
    "#               ROUND(SUM(distance_meters::NUMERIC),2) as total_distance_meters,\n",
    "#               ROUND(SUM(time_between_trips::NUMERIC),2) as total_time_between_trips\n",
    "#            FROM popular_routes as pr\n",
    "#            LEFT JOIN stations_names as sn ON sn.short_name = pr.ciclo_estacion_retiro\n",
    "#            LEFT JOIN stations_names as sn2 ON sn2.short_name = pr.ciclo_estacionarribo\n",
    "#            GROUP BY 1,2,3,4,5,6,7\n",
    "#            ORDER BY 1,8 DESC)\n",
    "#     \"\"\")"
   ]
  },
  {
   "cell_type": "code",
   "execution_count": 76,
   "metadata": {},
   "outputs": [
    {
     "data": {
      "text/plain": [
       "┌────────────────┬──────────────┬─────────┬───────────────────────┬─────────────────────┬──────────────────────┬─────────────────────┬───────────────────────┬───────────────────────┬────────────────────┬─────────────────┬────────────┬───────────────────┬────────────────────┬────────────────────┬────────────────────┬────────────────────┬──────────────┬──────────────┐\n",
       "│ genero_usuario │ edad_usuario │  bici   │ ciclo_estacion_retiro │     hora_retiro     │ ciclo_estacionarribo │     hora_arribo     │ fecha_retiro_completa │ fecha_arribo_completa │ time_between_trips │ day_of_the_week │ is_weekend │     lat_start     │     lon_start      │      lat_end       │      lon_end       │  distance_meters   │ fecha_retiro │ fecha_arribo │\n",
       "│    varchar     │    int64     │ varchar │        varchar        │ time with time zone │       varchar        │ time with time zone │       timestamp       │       timestamp       │       double       │     varchar     │   int32    │      double       │       double       │       double       │       double       │       double       │     date     │     date     │\n",
       "├────────────────┼──────────────┼─────────┼───────────────────────┼─────────────────────┼──────────────────────┼─────────────────────┼───────────────────────┼───────────────────────┼────────────────────┼─────────────────┼────────────┼───────────────────┼────────────────────┼────────────────────┼────────────────────┼────────────────────┼──────────────┼──────────────┤\n",
       "│ M              │           26 │ 5180930 │ 568                   │ 23:57:02+00         │ 572                  │ 00:00:03+00         │ 2024-12-31 23:57:02   │ 2025-01-01 00:00:03   │ 3.0166666666666666 │ Wednesday       │          0 │         19.418013 │         -99.144598 │          19.414677 │         -99.136894 │  889.0142150722589 │ 2024-12-31   │ 2025-01-01   │\n",
       "│ F              │           54 │ 3653953 │ 283                   │ 23:51:40+00         │ 596                  │ 00:00:41+00         │ 2024-12-31 23:51:40   │ 2025-01-01 00:00:41   │  9.016666666666667 │ Wednesday       │          0 │         19.397923 │         -99.167248 │          19.395205 │         -99.155049 │ 1314.6877643964744 │ 2024-12-31   │ 2025-01-01   │\n",
       "│ M              │           38 │ 7511322 │ 034                   │ 23:48:36+00         │ 064                  │ 00:00:59+00         │ 2024-12-31 23:48:36   │ 2025-01-01 00:00:59   │ 12.383333333333333 │ Wednesday       │          0 │ 19.42472751913646 │ -99.16334755721435 │ 19.412967269545486 │ -99.16692517703268 │  1360.437222306441 │ 2024-12-31   │ 2025-01-01   │\n",
       "│ M              │           41 │ 3804572 │ 258                   │ 23:54:11+00         │ 023                  │ 00:01:08+00         │ 2024-12-31 23:54:11   │ 2025-01-01 00:01:08   │               6.95 │ Wednesday       │          0 │        19.4165298 │        -99.1790435 │           19.42528 │         -99.171099 │ 1280.9302898690391 │ 2024-12-31   │ 2025-01-01   │\n",
       "│ M              │           35 │ 3848405 │ 043                   │ 23:35:28+00         │ 126                  │ 00:01:17+00         │ 2024-12-31 23:35:28   │ 2025-01-01 00:01:17   │ 25.816666666666666 │ Wednesday       │          0 │        19.4351365 │        -99.1460756 │          19.422288 │         -99.162138 │ 2208.6629589319673 │ 2024-12-31   │ 2025-01-01   │\n",
       "│ M              │           24 │ 7579436 │ 222                   │ 23:34:33+00         │ 483                  │ 00:01:58+00         │ 2024-12-31 23:34:33   │ 2025-01-01 00:01:58   │ 27.416666666666668 │ Wednesday       │          0 │         19.431417 │         -99.195774 │          19.443092 │         -99.177612 │ 2304.8103139187374 │ 2024-12-31   │ 2025-01-01   │\n",
       "│ M              │           31 │ 7161920 │ 034                   │ 23:25:47+00         │ 688                  │ 00:02:16+00         │ 2024-12-31 23:25:47   │ 2025-01-01 00:02:16   │ 36.483333333333334 │ Wednesday       │          0 │ 19.42472751913646 │ -99.16334755721435 │          19.346975 │         -99.178791 │  8796.128115927337 │ 2024-12-31   │ 2025-01-01   │\n",
       "│ M              │           22 │ 7220593 │ 254                   │ 23:50:20+00         │ 539                  │ 00:02:41+00         │ 2024-12-31 23:50:20   │ 2025-01-01 00:02:41   │              12.35 │ Wednesday       │          0 │         19.439177 │         -99.159957 │         19.4551042 │        -99.1576905 │ 1786.8969290299433 │ 2024-12-31   │ 2025-01-01   │\n",
       "│ M              │           29 │ 4031258 │ 560                   │ 23:52:11+00         │ 120                  │ 00:03:28+00         │ 2024-12-31 23:52:11   │ 2025-01-01 00:03:28   │ 11.283333333333333 │ Wednesday       │          0 │         19.421599 │         -99.143408 │          19.425437 │         -99.159458 │ 1736.3681808394601 │ 2024-12-31   │ 2025-01-01   │\n",
       "│ F              │           24 │ 6463376 │ 560                   │ 23:51:50+00         │ 120                  │ 00:03:31+00         │ 2024-12-31 23:51:50   │ 2025-01-01 00:03:31   │ 11.683333333333334 │ Wednesday       │          0 │         19.421599 │         -99.143408 │          19.425437 │         -99.159458 │ 1736.3681808394601 │ 2024-12-31   │ 2025-01-01   │\n",
       "├────────────────┴──────────────┴─────────┴───────────────────────┴─────────────────────┴──────────────────────┴─────────────────────┴───────────────────────┴───────────────────────┴────────────────────┴─────────────────┴────────────┴───────────────────┴────────────────────┴────────────────────┴────────────────────┴────────────────────┴──────────────┴──────────────┤\n",
       "│ 10 rows                                                                                                                                                                                                                                                                                                                                                           19 columns │\n",
       "└──────────────────────────────────────────────────────────────────────────────────────────────────────────────────────────────────────────────────────────────────────────────────────────────────────────────────────────────────────────────────────────────────────────────────────────────────────────────────────────────────────────────────────────────────────────────┘"
      ]
     },
     "execution_count": 76,
     "metadata": {},
     "output_type": "execute_result"
    }
   ],
   "source": [
    "simple_day = duckdb.sql(f\"\"\" \n",
    "SELECT * EXCLUDE(fecha_retiro,fecha_arribo),fecha_retiro_completa::date AS fecha_retiro,fecha_arribo_completa::date AS fecha_arribo  FROM read_parquet(['{fileFolder}/2025/*.parquet']) LIMIT 10\n",
    "\"\"\")"
   ]
  },
  {
   "cell_type": "code",
   "execution_count": 87,
   "metadata": {},
   "outputs": [],
   "source": [
    "simple_day = duckdb.sql(f\"\"\"\n",
    "           SELECT fecha_arribo,\n",
    "              CASE \n",
    "                  WHEN genero_usuario IN ('F', 'M') THEN genero_usuario \n",
    "                  ELSE 'O' \n",
    "              END as genero_usuario,                   \n",
    "              date_trunc('month', fecha_arribo)::date as first_day_of_month,\n",
    "              day_of_the_week,\n",
    "              is_weekend,\n",
    "              COUNT(*) as total_trips\n",
    "           FROM rides_24\n",
    "           GROUP BY fecha_arribo, day_of_the_week, is_weekend,genero_usuario\n",
    "           ORDER BY fecha_arribo DESC\n",
    "\"\"\").df()"
   ]
  },
  {
   "cell_type": "code",
   "execution_count": 39,
   "metadata": {},
   "outputs": [],
   "source": [
    "all_rides = duckdb.sql(f\"\"\" \n",
    "SELECT * EXCLUDE(hora_arribo,hora_retiro), hora_arribo::string as hora_arribo,hora_retiro::string as hora_retiro\n",
    "FROM read_parquet(['{fileFolder}/2024/*.parquet']) \n",
    "\"\"\").df()"
   ]
  },
  {
   "cell_type": "code",
   "execution_count": 88,
   "metadata": {},
   "outputs": [
    {
     "data": {
      "text/html": [
       "<div>\n",
       "<style scoped>\n",
       "    .dataframe tbody tr th:only-of-type {\n",
       "        vertical-align: middle;\n",
       "    }\n",
       "\n",
       "    .dataframe tbody tr th {\n",
       "        vertical-align: top;\n",
       "    }\n",
       "\n",
       "    .dataframe thead th {\n",
       "        text-align: right;\n",
       "    }\n",
       "</style>\n",
       "<table border=\"1\" class=\"dataframe\">\n",
       "  <thead>\n",
       "    <tr style=\"text-align: right;\">\n",
       "      <th></th>\n",
       "      <th>fecha_arribo</th>\n",
       "      <th>genero_usuario</th>\n",
       "      <th>first_day_of_month</th>\n",
       "      <th>day_of_the_week</th>\n",
       "      <th>is_weekend</th>\n",
       "      <th>total_trips</th>\n",
       "    </tr>\n",
       "  </thead>\n",
       "  <tbody>\n",
       "    <tr>\n",
       "      <th>0</th>\n",
       "      <td>2025-01-31</td>\n",
       "      <td>O</td>\n",
       "      <td>2025-01-01</td>\n",
       "      <td>Friday</td>\n",
       "      <td>0</td>\n",
       "      <td>1194</td>\n",
       "    </tr>\n",
       "    <tr>\n",
       "      <th>1</th>\n",
       "      <td>2025-01-31</td>\n",
       "      <td>O</td>\n",
       "      <td>2025-01-01</td>\n",
       "      <td>Friday</td>\n",
       "      <td>0</td>\n",
       "      <td>753</td>\n",
       "    </tr>\n",
       "    <tr>\n",
       "      <th>2</th>\n",
       "      <td>2025-01-31</td>\n",
       "      <td>F</td>\n",
       "      <td>2025-01-01</td>\n",
       "      <td>Friday</td>\n",
       "      <td>0</td>\n",
       "      <td>18503</td>\n",
       "    </tr>\n",
       "    <tr>\n",
       "      <th>3</th>\n",
       "      <td>2025-01-31</td>\n",
       "      <td>M</td>\n",
       "      <td>2025-01-01</td>\n",
       "      <td>Friday</td>\n",
       "      <td>0</td>\n",
       "      <td>47766</td>\n",
       "    </tr>\n",
       "    <tr>\n",
       "      <th>4</th>\n",
       "      <td>2025-01-30</td>\n",
       "      <td>F</td>\n",
       "      <td>2025-01-01</td>\n",
       "      <td>Thursday</td>\n",
       "      <td>0</td>\n",
       "      <td>19991</td>\n",
       "    </tr>\n",
       "  </tbody>\n",
       "</table>\n",
       "</div>"
      ],
      "text/plain": [
       "  fecha_arribo genero_usuario first_day_of_month day_of_the_week  is_weekend  \\\n",
       "0   2025-01-31              O         2025-01-01          Friday           0   \n",
       "1   2025-01-31              O         2025-01-01          Friday           0   \n",
       "2   2025-01-31              F         2025-01-01          Friday           0   \n",
       "3   2025-01-31              M         2025-01-01          Friday           0   \n",
       "4   2025-01-30              F         2025-01-01        Thursday           0   \n",
       "\n",
       "   total_trips  \n",
       "0         1194  \n",
       "1          753  \n",
       "2        18503  \n",
       "3        47766  \n",
       "4        19991  "
      ]
     },
     "execution_count": 88,
     "metadata": {},
     "output_type": "execute_result"
    }
   ],
   "source": [
    "simple_day.genero_usa"
   ]
  },
  {
   "cell_type": "code",
   "execution_count": 89,
   "metadata": {},
   "outputs": [],
   "source": [
    "# Use the DataFrame to delete the table if it exists and create it again in the new connection\n",
    "with duckdb.connect('ecobici2.duckdb') as con:\n",
    "    con.execute(\"\"\"\n",
    "        DROP TABLE IF EXISTS trips_per_day_w_gender\n",
    "    \"\"\")\n",
    "    con.execute(\"\"\"\n",
    "        CREATE TABLE trips_per_day_w_gender AS SELECT * FROM simple_day\n",
    "    \"\"\")\n",
    "    # con.execute(\"\"\"\n",
    "    #     INSERT INTO trips_per_day\n",
    "    #     SELECT * FROM simple_day\n",
    "    #     ON CONFLICT DO NOTHING\n",
    "    # \"\"\")"
   ]
  },
  {
   "cell_type": "code",
   "execution_count": 3,
   "metadata": {},
   "outputs": [],
   "source": [
    "### Trips Per Month MoM\n",
    "mom_df = duckdb.sql(\"\"\" \n",
    "           WITH trips_p_month as (\n",
    "           SELECT date_trunc('month', fecha_arribo)::date as months, COUNT(*) as trips_per_month\n",
    "           FROM rides_24\n",
    "           GROUP BY date_trunc('month', fecha_arribo)::date\n",
    "           ), mom_g as (\n",
    "           SELECT months, \n",
    "                  trips_per_month, \n",
    "                  LAG(trips_per_month,1) OVER(ORDER BY months) AS previous_month_trips\n",
    "           FROM trips_p_month\n",
    "           )\n",
    "           \n",
    "           SELECT *,\n",
    "           ROUND((((trips_per_month - previous_month_trips) / previous_month_trips) * 100)::numeric,2) as mom_growth\n",
    "           FROM mom_g \n",
    "           ORDER BY months\n",
    "\"\"\").df()\n",
    "\n",
    "mom_df['months'] = pd.to_datetime(mom_df['months'])\n",
    "mom_df['time'] = np.arange(len(mom_df))\n",
    "\n",
    "# Prepare the features and target variable\n",
    "X = mom_df[['time']]\n",
    "y = mom_df['trips_per_month']\n",
    "\n",
    "# Fit the linear regression model\n",
    "model = LinearRegression()\n",
    "model.fit(X, y)\n",
    "\n",
    "# Add a new column with the trend (predicted trips)\n",
    "mom_df['trend'] = model.predict(X)"
   ]
  },
  {
   "cell_type": "code",
   "execution_count": 4,
   "metadata": {},
   "outputs": [],
   "source": [
    "# Calculate standard deviation and mean\n",
    "std_dev = mom_df['trips_per_month'].std()\n",
    "mean = mom_df['trips_per_month'].mean()\n",
    "median = mom_df['trips_per_month'].median()\n",
    "\n",
    "# Add columns for +1.5 std dev and -1.5 std dev\n",
    "mom_df['+1.5_std_dev'] = mean + 1 * std_dev\n",
    "mom_df['-1.5_std_dev'] = mean - 1 * std_dev\n",
    "mom_df['mean'] = mean\n",
    "mom_df['median'] = median\n",
    "\n",
    "# Add a column for z-index\n",
    "mom_df['z_index'] = (mom_df['trips_per_month'] - mean) / std_dev"
   ]
  },
  {
   "cell_type": "code",
   "execution_count": 125,
   "metadata": {},
   "outputs": [
    {
     "name": "stdout",
     "output_type": "stream",
     "text": [
      "   count_star()\n",
      "0      24779931\n"
     ]
    }
   ],
   "source": [
    "with duckdb.connect('/Users/gerardomartinez/Documents/ecobici_project/ecobici/evidence_project/sources/routes/routes.duckdb') as con:\n",
    "    asfs = con.execute(f\"\"\"\n",
    "    SELECT * FROM popular_routes\n",
    "    \"\"\").fetchdf()\n",
    "    print(asfs)"
   ]
  },
  {
   "cell_type": "code",
   "execution_count": 122,
   "metadata": {},
   "outputs": [
    {
     "name": "stdout",
     "output_type": "stream",
     "text": [
      "             name\n",
      "0  popular_routes\n"
     ]
    }
   ],
   "source": [
    "with duckdb.connect(\"/Users/gerardomartinez/Documents/ecobici_project/ecobici/evidence_project/sources/routes/routes.duckdb\") as con:\n",
    "    tables_df = con.execute(\"SHOW TABLES\").fetchdf()\n",
    "    print(tables_df)"
   ]
  },
  {
   "cell_type": "code",
   "execution_count": 130,
   "metadata": {},
   "outputs": [
    {
     "data": {
      "image/png": "[encoded data removed]",
      "text/plain": [
       "<Figure size 1200x800 with 1 Axes>"
      ]
     },
     "metadata": {},
     "output_type": "display_data"
    }
   ],
   "source": [
    "import matplotlib.pyplot as plt\n",
    "\n",
    "# Create the plot\n",
    "plt.figure(figsize=(12, 8))\n",
    "\n",
    "# Plot trips per month\n",
    "plt.plot(mom_df['months'], mom_df['trips_per_month'], label='Trips Per Month', color='black', linestyle='-', linewidth=2)\n",
    "\n",
    "# Plot mean and median with dotted lines and transparency\n",
    "plt.plot(mom_df['months'], mom_df['mean'], label='Mean', color='blue', linestyle=':', alpha=0.7)\n",
    "plt.plot(mom_df['months'], mom_df['median'], label='Median', color='green', linestyle=':', alpha=0.7)\n",
    "\n",
    "# Plot standard deviations with solid lines\n",
    "plt.plot(mom_df['months'], mom_df['+1.5_std_dev'], label='+1.5 Std Dev', color='red', linestyle='-', linewidth=1.5)\n",
    "plt.plot(mom_df['months'], mom_df['-1.5_std_dev'], label='-1.5 Std Dev', color='red', linestyle='-', linewidth=1.5)\n",
    "\n",
    "# Plot the regression line\n",
    "plt.plot(mom_df['months'], mom_df['trend'], label='Regression Line', color='orange', linestyle='--', linewidth=2)\n",
    "\n",
    "# Fill the area between +1.5 std dev and -1.5 std dev\n",
    "plt.fill_between(mom_df['months'], mom_df['+1.5_std_dev'], mom_df['-1.5_std_dev'], color='purple', alpha=0.15)\n",
    "\n",
    "# Add labels, title, and legend\n",
    "plt.xlabel('Months')\n",
    "plt.ylabel('Trips')\n",
    "plt.title('Monthly Trips with Statistical Indicators')\n",
    "plt.legend()\n",
    "plt.grid(True)\n",
    "\n",
    "# Show the plot\n",
    "plt.show()\n"
   ]
  },
  {
   "cell_type": "code",
   "execution_count": null,
   "metadata": {},
   "outputs": [],
   "source": []
  },
  {
   "cell_type": "code",
   "execution_count": null,
   "metadata": {},
   "outputs": [
    {
     "data": {
      "image/png": "[encoded data removed]",
      "text/plain": [
       "<Figure size 1000x600 with 1 Axes>"
      ]
     },
     "metadata": {},
     "output_type": "display_data"
    }
   ],
   "source": [
    "import matplotlib.pyplot as plt\n",
    "\n",
    "# Plot trips per month and trend\n",
    "plt.figure(figsize=(10, 6))\n",
    "plt.plot(mom_df['months'], mom_df['trips_per_month'], label='Trips Per Month', marker='o')\n",
    "plt.plot(mom_df['months'], mom_df['trend'], label='Trend', linestyle='--', color='orange')\n",
    "\n",
    "# Add labels, title, and legend\n",
    "plt.xlabel('Months')\n",
    "plt.ylabel('Trips')\n",
    "plt.title('Monthly Trips and Trend')\n",
    "plt.legend()\n",
    "plt.grid(True)\n",
    "plt.show()"
   ]
  },
  {
   "cell_type": "code",
   "execution_count": 41,
   "metadata": {},
   "outputs": [
    {
     "name": "stdout",
     "output_type": "stream",
     "text": [
      "2017 . 2018 . 2019 . 2020 . 2021 . 2022 . 2023 . 2024 . 2025 . "
     ]
    }
   ],
   "source": [
    "# import os\n",
    "\n",
    "# for yr in ['2017','2018','2019','2020','2021','2022','2023','2024','2025']:\n",
    "#     filesO = os.listdir(f'{fileFolder}/{yr}/')\n",
    "#     print(yr, end=' . ')\n",
    "\n",
    "#     for i in filesO:\n",
    "#         ah = pd.read_parquet(f'{fileFolder}/{yr}/{i}')\n",
    "        \n",
    "#         #  Change all column names to lowercase\n",
    "#         ah.columns = ah.columns.str.lower()\n",
    "#         ah.columns = ah.columns.str.replace(' ', '_')\n",
    "\n",
    "#         # Convert 'fecha_retiro' column to date\n",
    "#         ah['fecha_retiro'] = pd.to_datetime(ah['fecha_retiro'], format='mixed')\n",
    "#         ah['fecha_arribo'] = pd.to_datetime(ah['fecha_arribo'], format='mixed')\n",
    "#         ah['hora_retiro'] = pd.to_datetime(ah['hora_retiro'], format='%H:%M:%S').dt.time\n",
    "#         ah['hora_arribo'] = pd.to_datetime(ah['hora_arribo'], format='%H:%M:%S').dt.time\n",
    "\n",
    "#         ah.to_parquet(f'{fileFolder}/{yr}/{i}')\n"
   ]
  },
  {
   "cell_type": "code",
   "execution_count": null,
   "metadata": {},
   "outputs": [
    {
     "data": {
      "text/plain": [
       "┌─────────┬───────────────┬───────┐\n",
       "│  bici   │ months_in_use │ trips │\n",
       "│  int64  │     int64     │ int64 │\n",
       "├─────────┼───────────────┼───────┤\n",
       "│ 6168397 │            12 │  2688 │\n",
       "│ 3215845 │            12 │  2304 │\n",
       "│ 7181779 │            12 │  2340 │\n",
       "│ 5426200 │            12 │  2157 │\n",
       "│ 5283098 │            12 │  2388 │\n",
       "│ 3668472 │            12 │  2030 │\n",
       "│ 4703534 │            12 │  2262 │\n",
       "│ 5568571 │            12 │  2734 │\n",
       "│ 4499737 │            12 │  2644 │\n",
       "│ 6451306 │            12 │  2701 │\n",
       "│    ·    │             · │    ·  │\n",
       "│    ·    │             · │    ·  │\n",
       "│    ·    │             · │    ·  │\n",
       "│ 5844030 │            12 │   501 │\n",
       "│ 6914758 │            12 │   137 │\n",
       "│ 4361895 │            12 │   559 │\n",
       "│ 4762548 │            12 │   476 │\n",
       "│ 8159444 │            12 │  2303 │\n",
       "│ 3018512 │            12 │   500 │\n",
       "│ 7818594 │            12 │   439 │\n",
       "│ 2956167 │             7 │    26 │\n",
       "│ 7604226 │            10 │   139 │\n",
       "│ 2308419 │            12 │   756 │\n",
       "├─────────┴───────────────┴───────┤\n",
       "│ 8639 rows (20 shown)  3 columns │\n",
       "└─────────────────────────────────┘"
      ]
     },
     "execution_count": 73,
     "metadata": {},
     "output_type": "execute_result"
    }
   ],
   "source": [
    "duckdb.sql(\"\"\"\n",
    "WITH bici_p_month as (\n",
    "        SELECT  bici, COUNT(DISTINCT EXTRACT(MONTH FROM fecha_arribo)) as months_in_use\n",
    "        FROM rides_24\n",
    "        GROUP BY bici)\n",
    "\n",
    "    SELECT r24.bici, bp.months_in_use ,COUNT(*) as trips\n",
    "    FROM rides_24 as r24\n",
    "    LEFT JOIN bici_p_month as bp ON r24.bici = bp.bici\n",
    "    GROUP BY r24.bici, bp.months_in_use\n",
    "\"\"\")"
   ]
  }
 ],
 "metadata": {
  "kernelspec": {
   "display_name": ".venv",
   "language": "python",
   "name": "python3"
  },
  "language_info": {
   "codemirror_mode": {
    "name": "ipython",
    "version": 3
   },
   "file_extension": ".py",
   "mimetype": "text/x-python",
   "name": "python",
   "nbconvert_exporter": "python",
   "pygments_lexer": "ipython3",
   "version": "3.10.4"
  }
 },
 "nbformat": 4,
 "nbformat_minor": 2
}
